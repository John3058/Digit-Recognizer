{
  "nbformat": 4,
  "nbformat_minor": 0,
  "metadata": {
    "colab": {
      "provenance": []
    },
    "kernelspec": {
      "name": "python3",
      "display_name": "Python 3"
    },
    "language_info": {
      "name": "python"
    }
  },
  "cells": [
    {
      "cell_type": "code",
      "execution_count": 2,
      "metadata": {
        "colab": {
          "base_uri": "https://localhost:8080/"
        },
        "id": "ABIryCWdLzX0",
        "outputId": "13502767-835c-45b8-9298-3fa39edfe9d9"
      },
      "outputs": [
        {
          "output_type": "execute_result",
          "data": {
            "text/plain": [
              "(42000, 785)"
            ]
          },
          "metadata": {},
          "execution_count": 2
        }
      ],
      "source": [
        "import pandas as pd\n",
        "\n",
        "import torch\n",
        "import torch.nn as nn\n",
        "import torch.nn.functional as F\n",
        "import torch.optim as optim\n",
        "import numpy as np\n",
        "\n",
        "digits_df = pd.read_csv(\"train.csv\")\n",
        "digits_df.shape"
      ]
    },
    {
      "cell_type": "code",
      "source": [
        "x = digits_df.values[:, 1:]\n",
        "y = digits_df.values[:, 0]"
      ],
      "metadata": {
        "id": "2u8KwkouNn8d"
      },
      "execution_count": 3,
      "outputs": []
    },
    {
      "cell_type": "code",
      "source": [
        "class Net(nn.Module):\n",
        "    def __init__(self):\n",
        "        super(Net, self).__init__()\n",
        "        self.fc1 = nn.Linear(784,500)\n",
        "        self.fc2 = nn.Linear(500,250)\n",
        "        self.fc3 = nn.Linear(250,125)\n",
        "        self.fc4 = nn.Linear(125,10)\n",
        "        self.bn1 = nn.BatchNorm1d(500)\n",
        "        self.bn2 = nn.BatchNorm1d(250)\n",
        "        self.bn3 = nn.BatchNorm1d(125)\n",
        "\n",
        "    def forward(self, x):\n",
        "        x = F.relu(self.bn1(self.fc1(x)))\n",
        "        x = F.relu(self.bn2(self.fc2(x)))\n",
        "        x = F.relu(self.bn3(self.fc3(x)))\n",
        "        x = self.fc4(x)\n",
        "        output = F.log_softmax(x, dim=1)\n",
        "        return output"
      ],
      "metadata": {
        "id": "Pm432I8VNNkN"
      },
      "execution_count": 4,
      "outputs": []
    },
    {
      "cell_type": "code",
      "source": [
        "#Training and testing data, converted to torch\n",
        "train_size = 0\n",
        "data_test = torch.from_numpy(x[:train_size,:]).float()\n",
        "target_test = torch.from_numpy(y[:train_size]).long()\n",
        "data = torch.from_numpy(x[train_size:,:]).float()\n",
        "target = torch.from_numpy(y[train_size:]).long()\n",
        "\n",
        "#Setup model\n",
        "batch_size = 64\n",
        "model = Net()\n",
        "optimizer = optim.Adadelta(model.parameters(), lr=0.1)  #Learning rate\n",
        "\n",
        "#Training\n",
        "for i in range(30):\n",
        "    #Training mode, run data through neural network\n",
        "    model.train()\n",
        "    #Loop over minibatches\n",
        "    for j in range(0,42000-train_size,batch_size):\n",
        "        data_minibatch = data[j:j+batch_size,:]\n",
        "        target_minibatch = target[j:j+batch_size]\n",
        "        optimizer.zero_grad()\n",
        "        loss_SGD = F.nll_loss(model(data_minibatch), target_minibatch)\n",
        "        loss_SGD.backward()\n",
        "        optimizer.step()\n",
        "\n",
        "    #Accuracy\n",
        "    model.eval()\n",
        "    with torch.no_grad():\n",
        "        test_pred = torch.argmax(model(data_test),axis=1)\n",
        "        test_accuracy = torch.mean((test_pred == target_test).float())\n",
        "        train_pred = torch.argmax(model(data),axis=1)\n",
        "        train_accuracy = torch.mean((train_pred == target).float())\n",
        "        print('Iter:%d, Test Accuracy=%.2f, Training Accuracy=%.2f'%(i,test_accuracy*100,train_accuracy*100))"
      ],
      "metadata": {
        "colab": {
          "base_uri": "https://localhost:8080/"
        },
        "id": "Hs8qnJv6NaCl",
        "outputId": "6c2676bb-7422-479c-dd57-389cfec0da5d"
      },
      "execution_count": 5,
      "outputs": [
        {
          "output_type": "stream",
          "name": "stdout",
          "text": [
            "Iter:0, Test Accuracy=nan, Training Accuracy=97.83\n",
            "Iter:1, Test Accuracy=nan, Training Accuracy=98.92\n",
            "Iter:2, Test Accuracy=nan, Training Accuracy=99.40\n",
            "Iter:3, Test Accuracy=nan, Training Accuracy=99.76\n",
            "Iter:4, Test Accuracy=nan, Training Accuracy=99.92\n",
            "Iter:5, Test Accuracy=nan, Training Accuracy=99.96\n",
            "Iter:6, Test Accuracy=nan, Training Accuracy=99.97\n",
            "Iter:7, Test Accuracy=nan, Training Accuracy=99.98\n",
            "Iter:8, Test Accuracy=nan, Training Accuracy=99.99\n",
            "Iter:9, Test Accuracy=nan, Training Accuracy=99.99\n",
            "Iter:10, Test Accuracy=nan, Training Accuracy=99.99\n",
            "Iter:11, Test Accuracy=nan, Training Accuracy=99.99\n",
            "Iter:12, Test Accuracy=nan, Training Accuracy=99.99\n",
            "Iter:13, Test Accuracy=nan, Training Accuracy=99.99\n",
            "Iter:14, Test Accuracy=nan, Training Accuracy=99.99\n",
            "Iter:15, Test Accuracy=nan, Training Accuracy=99.99\n",
            "Iter:16, Test Accuracy=nan, Training Accuracy=99.99\n",
            "Iter:17, Test Accuracy=nan, Training Accuracy=99.99\n",
            "Iter:18, Test Accuracy=nan, Training Accuracy=99.99\n",
            "Iter:19, Test Accuracy=nan, Training Accuracy=99.99\n",
            "Iter:20, Test Accuracy=nan, Training Accuracy=99.99\n",
            "Iter:21, Test Accuracy=nan, Training Accuracy=99.99\n",
            "Iter:22, Test Accuracy=nan, Training Accuracy=99.99\n",
            "Iter:23, Test Accuracy=nan, Training Accuracy=99.99\n",
            "Iter:24, Test Accuracy=nan, Training Accuracy=99.99\n",
            "Iter:25, Test Accuracy=nan, Training Accuracy=99.99\n",
            "Iter:26, Test Accuracy=nan, Training Accuracy=99.99\n",
            "Iter:27, Test Accuracy=nan, Training Accuracy=99.99\n",
            "Iter:28, Test Accuracy=nan, Training Accuracy=99.99\n",
            "Iter:29, Test Accuracy=nan, Training Accuracy=99.99\n"
          ]
        }
      ]
    },
    {
      "cell_type": "code",
      "source": [
        "torch.save(model.state_dict(), \"DigitRecognizer.pt\")"
      ],
      "metadata": {
        "id": "fXCa8-fzPOT3"
      },
      "execution_count": 6,
      "outputs": []
    },
    {
      "cell_type": "code",
      "source": [
        "test_df = pd.read_csv(\"test.csv\")"
      ],
      "metadata": {
        "id": "1BrruBJYP0hA"
      },
      "execution_count": 7,
      "outputs": []
    },
    {
      "cell_type": "code",
      "source": [
        "ans = model(torch.from_numpy(test_df.values).float())"
      ],
      "metadata": {
        "id": "ZMfL5Da3PU0v"
      },
      "execution_count": 8,
      "outputs": []
    },
    {
      "cell_type": "code",
      "source": [
        "p = torch.argmax(ans, axis=1)"
      ],
      "metadata": {
        "id": "nmdC9wHARLCO"
      },
      "execution_count": 9,
      "outputs": []
    },
    {
      "cell_type": "code",
      "source": [
        "n = p.numpy()"
      ],
      "metadata": {
        "id": "KKG3XkERKcJx"
      },
      "execution_count": 10,
      "outputs": []
    },
    {
      "cell_type": "code",
      "source": [
        "list_entries = []\n",
        "for i in range(len(n)):\n",
        "  entry = [i+1, n[i]]\n",
        "  list_entries.append(entry)\n",
        "\n",
        "df = pd.DataFrame(list_entries, columns=[\"ImageId\", \"Label\"])\n",
        "df = df.set_index(\"ImageId\")"
      ],
      "metadata": {
        "id": "XTCEsp-SIYoL"
      },
      "execution_count": 11,
      "outputs": []
    },
    {
      "cell_type": "code",
      "source": [
        "te = pd.read_csv(\"sub.csv\")\n",
        "j = 0\n",
        "for i in range(len(te.Label)):\n",
        "  if(te.Label[i] == n[i]):\n",
        "    j += 1\n",
        "\n",
        "print(j/len(te.Label))"
      ],
      "metadata": {
        "colab": {
          "base_uri": "https://localhost:8080/"
        },
        "id": "cOlU2FxrcKvR",
        "outputId": "85acbe50-7c92-4683-e5e9-c26930033e12"
      },
      "execution_count": 13,
      "outputs": [
        {
          "output_type": "stream",
          "name": "stdout",
          "text": [
            "0.9860714285714286\n"
          ]
        }
      ]
    },
    {
      "cell_type": "code",
      "source": [
        "df.to_csv(\"sub.csv\")"
      ],
      "metadata": {
        "id": "F78ZBo_1Ji-c"
      },
      "execution_count": null,
      "outputs": []
    },
    {
      "cell_type": "code",
      "source": [
        "df.head()"
      ],
      "metadata": {
        "id": "amY6AR8AJ9oV"
      },
      "execution_count": null,
      "outputs": []
    },
    {
      "cell_type": "code",
      "source": [],
      "metadata": {
        "id": "t_MtO3D-QhAU"
      },
      "execution_count": null,
      "outputs": []
    }
  ]
}